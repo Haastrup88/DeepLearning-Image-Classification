{
 "cells": [
  {
   "cell_type": "code",
   "execution_count": 1,
   "id": "3e10bf29",
   "metadata": {},
   "outputs": [],
   "source": [
    "import tensorflow as tf\n",
    "import matplotlib.pyplot as plt\n",
    "from tensorflow import keras\n",
    "import numpy as np\n",
    "%matplotlib inline\n"
   ]
  },
  {
   "cell_type": "code",
   "execution_count": 2,
   "id": "22ac188e",
   "metadata": {},
   "outputs": [
    {
     "name": "stdout",
     "output_type": "stream",
     "text": [
      "2.6.2\n"
     ]
    }
   ],
   "source": [
    "print(tf.__version__)"
   ]
  },
  {
   "cell_type": "code",
   "execution_count": 4,
   "id": "a4e80d2d",
   "metadata": {},
   "outputs": [
    {
     "name": "stdout",
     "output_type": "stream",
     "text": [
      "Downloading data from https://storage.googleapis.com/tensorflow/tf-keras-datasets/train-labels-idx1-ubyte.gz\n",
      "32768/29515 [=================================] - 0s 6us/step\n",
      "40960/29515 [=========================================] - 0s 5us/step\n",
      "Downloading data from https://storage.googleapis.com/tensorflow/tf-keras-datasets/train-images-idx3-ubyte.gz\n",
      "26427392/26421880 [==============================] - 10s 0us/step\n",
      "26435584/26421880 [==============================] - 10s 0us/step\n",
      "Downloading data from https://storage.googleapis.com/tensorflow/tf-keras-datasets/t10k-labels-idx1-ubyte.gz\n",
      "16384/5148 [===============================================================================================] - 0s 0s/step\n",
      "Downloading data from https://storage.googleapis.com/tensorflow/tf-keras-datasets/t10k-images-idx3-ubyte.gz\n",
      "4423680/4422102 [==============================] - 2s 0us/step\n",
      "4431872/4422102 [==============================] - 2s 0us/step\n"
     ]
    }
   ],
   "source": [
    "dataset=keras.datasets.fashion_mnist\n",
    "(x_train,y_train),(x_test,y_test)=dataset.load_data()"
   ]
  },
  {
   "cell_type": "code",
   "execution_count": 10,
   "id": "0b7fc620",
   "metadata": {},
   "outputs": [
    {
     "data": {
      "text/plain": [
       "array([9, 2, 1, ..., 8, 1, 5], dtype=uint8)"
      ]
     },
     "execution_count": 10,
     "metadata": {},
     "output_type": "execute_result"
    }
   ],
   "source": [
    "y_test"
   ]
  },
  {
   "cell_type": "code",
   "execution_count": 47,
   "id": "e4a9c45e",
   "metadata": {},
   "outputs": [],
   "source": [
    "classes=['T-shirt/top','Trouser','Pullover','Dress','Coat','Sandal','Shirt','Sneaker','Bag','Ankle boot']\n"
   ]
  },
  {
   "cell_type": "markdown",
   "id": "6300a4be",
   "metadata": {},
   "source": [
    "# Dataset Scaling"
   ]
  },
  {
   "cell_type": "code",
   "execution_count": 17,
   "id": "7805afa5",
   "metadata": {},
   "outputs": [],
   "source": [
    "x_train_scaled=x_train/255\n",
    "x_test_scaled=x_test/255"
   ]
  },
  {
   "cell_type": "code",
   "execution_count": 21,
   "id": "0bfb8b2e",
   "metadata": {},
   "outputs": [],
   "source": [
    "y_train_categorical=keras.utils.to_categorical(y_train,num_classes=10,dtype='float32')\n",
    "y_test_categorical=keras.utils.to_categorical(y_test,num_classes=10,dtype='float32')"
   ]
  },
  {
   "cell_type": "code",
   "execution_count": 23,
   "id": "8b412704",
   "metadata": {},
   "outputs": [
    {
     "data": {
      "text/plain": [
       "array([[0., 0., 0., 0., 0., 0., 0., 0., 0., 1.],\n",
       "       [1., 0., 0., 0., 0., 0., 0., 0., 0., 0.],\n",
       "       [1., 0., 0., 0., 0., 0., 0., 0., 0., 0.],\n",
       "       [0., 0., 0., 1., 0., 0., 0., 0., 0., 0.]], dtype=float32)"
      ]
     },
     "execution_count": 23,
     "metadata": {},
     "output_type": "execute_result"
    }
   ],
   "source": [
    "y_train_categorical[:4]"
   ]
  },
  {
   "cell_type": "code",
   "execution_count": 24,
   "id": "49ffd14e",
   "metadata": {},
   "outputs": [
    {
     "data": {
      "text/plain": [
       "array([[0., 0., 0., 0., 0., 0., 0., 0., 0., 1.],\n",
       "       [0., 0., 1., 0., 0., 0., 0., 0., 0., 0.],\n",
       "       [0., 1., 0., 0., 0., 0., 0., 0., 0., 0.]], dtype=float32)"
      ]
     },
     "execution_count": 24,
     "metadata": {},
     "output_type": "execute_result"
    }
   ],
   "source": [
    "y_test_categorical[:3]"
   ]
  },
  {
   "cell_type": "code",
   "execution_count": 44,
   "id": "7feef017",
   "metadata": {},
   "outputs": [
    {
     "data": {
      "text/plain": [
       "'Pullover'"
      ]
     },
     "execution_count": 44,
     "metadata": {},
     "output_type": "execute_result"
    }
   ],
   "source": [
    "classes[y_train[7]]"
   ]
  },
  {
   "cell_type": "code",
   "execution_count": 45,
   "id": "0dcadc1f",
   "metadata": {},
   "outputs": [
    {
     "data": {
      "text/plain": [
       "<matplotlib.image.AxesImage at 0x222ccd82e80>"
      ]
     },
     "execution_count": 45,
     "metadata": {},
     "output_type": "execute_result"
    },
    {
     "data": {
      "image/png": "[encoded data removed]",
      "text/plain": [
       "<Figure size 432x288 with 1 Axes>"
      ]
     },
     "metadata": {
      "needs_background": "light"
     },
     "output_type": "display_data"
    }
   ],
   "source": [
    "plt.imshow(x_train[7])"
   ]
  },
  {
   "cell_type": "code",
   "execution_count": 48,
   "id": "e0239d6f",
   "metadata": {},
   "outputs": [
    {
     "data": {
      "image/png": "[encoded data removed]",
      "text/plain": [
       "<Figure size 720x216 with 1 Axes>"
      ]
     },
     "metadata": {
      "needs_background": "light"
     },
     "output_type": "display_data"
    },
    {
     "data": {
      "image/png": "[encoded data removed]",
      "text/plain": [
       "<Figure size 432x288 with 1 Axes>"
      ]
     },
     "metadata": {
      "needs_background": "light"
     },
     "output_type": "display_data"
    },
    {
     "data": {
      "image/png": "[encoded data removed]",
      "text/plain": [
       "<Figure size 432x288 with 1 Axes>"
      ]
     },
     "metadata": {
      "needs_background": "light"
     },
     "output_type": "display_data"
    },
    {
     "data": {
      "image/png": "[encoded data removed]",
      "text/plain": [
       "<Figure size 432x288 with 1 Axes>"
      ]
     },
     "metadata": {
      "needs_background": "light"
     },
     "output_type": "display_data"
    },
    {
     "data": {
      "image/png": "[encoded data removed]",
      "text/plain": [
       "<Figure size 432x288 with 1 Axes>"
      ]
     },
     "metadata": {
      "needs_background": "light"
     },
     "output_type": "display_data"
    }
   ],
   "source": [
    "plt.figure(figsize=(10,3))\n",
    "for i in range(5):\n",
    "    plt.imshow(x_train[i])\n",
    "    plt.xlabel(classes[y_train[i]])\n",
    "    plt.show()"
   ]
  },
  {
   "cell_type": "markdown",
   "id": "708dcbb2",
   "metadata": {},
   "source": [
    "# Model"
   ]
  },
  {
   "cell_type": "code",
   "execution_count": 50,
   "id": "e4c87e72",
   "metadata": {},
   "outputs": [
    {
     "name": "stdout",
     "output_type": "stream",
     "text": [
      "Epoch 1/30\n",
      "1875/1875 [==============================] - 16s 7ms/step - loss: 0.6780 - accuracy: 0.7792\n",
      "Epoch 2/30\n",
      "1875/1875 [==============================] - 14s 7ms/step - loss: 0.4711 - accuracy: 0.8349\n",
      "Epoch 3/30\n",
      "1875/1875 [==============================] - 14s 7ms/step - loss: 0.4279 - accuracy: 0.8507\n",
      "Epoch 4/30\n",
      "1875/1875 [==============================] - 14s 8ms/step - loss: 0.4011 - accuracy: 0.8598\n",
      "Epoch 5/30\n",
      "1875/1875 [==============================] - 14s 7ms/step - loss: 0.3812 - accuracy: 0.8665\n",
      "Epoch 6/30\n",
      "1875/1875 [==============================] - 14s 7ms/step - loss: 0.3660 - accuracy: 0.8711\n",
      "Epoch 7/30\n",
      "1875/1875 [==============================] - 14s 7ms/step - loss: 0.3520 - accuracy: 0.8753\n",
      "Epoch 8/30\n",
      "1875/1875 [==============================] - 14s 8ms/step - loss: 0.3404 - accuracy: 0.8797\n",
      "Epoch 9/30\n",
      "1875/1875 [==============================] - 14s 8ms/step - loss: 0.3305 - accuracy: 0.8833\n",
      "Epoch 10/30\n",
      "1875/1875 [==============================] - 14s 7ms/step - loss: 0.3192 - accuracy: 0.8864\n",
      "Epoch 11/30\n",
      "1875/1875 [==============================] - 14s 8ms/step - loss: 0.3116 - accuracy: 0.8880\n",
      "Epoch 12/30\n",
      "1875/1875 [==============================] - 15s 8ms/step - loss: 0.3033 - accuracy: 0.8911\n",
      "Epoch 13/30\n",
      "1875/1875 [==============================] - 13s 7ms/step - loss: 0.2957 - accuracy: 0.8943\n",
      "Epoch 14/30\n",
      "1875/1875 [==============================] - 13s 7ms/step - loss: 0.2883 - accuracy: 0.8972\n",
      "Epoch 15/30\n",
      "1875/1875 [==============================] - 14s 7ms/step - loss: 0.2822 - accuracy: 0.8985\n",
      "Epoch 16/30\n",
      "1875/1875 [==============================] - 14s 8ms/step - loss: 0.2764 - accuracy: 0.9008\n",
      "Epoch 17/30\n",
      "1875/1875 [==============================] - 15s 8ms/step - loss: 0.2693 - accuracy: 0.9034\n",
      "Epoch 18/30\n",
      "1875/1875 [==============================] - 14s 7ms/step - loss: 0.2634 - accuracy: 0.9057\n",
      "Epoch 19/30\n",
      "1875/1875 [==============================] - 14s 7ms/step - loss: 0.2593 - accuracy: 0.9063\n",
      "Epoch 20/30\n",
      "1875/1875 [==============================] - 14s 8ms/step - loss: 0.2534 - accuracy: 0.9086\n",
      "Epoch 21/30\n",
      "1875/1875 [==============================] - 15s 8ms/step - loss: 0.2485 - accuracy: 0.9108\n",
      "Epoch 22/30\n",
      "1875/1875 [==============================] - 15s 8ms/step - loss: 0.2435 - accuracy: 0.9124\n",
      "Epoch 23/30\n",
      "1875/1875 [==============================] - 14s 8ms/step - loss: 0.2389 - accuracy: 0.9138\n",
      "Epoch 24/30\n",
      "1875/1875 [==============================] - 15s 8ms/step - loss: 0.2347 - accuracy: 0.9158\n",
      "Epoch 25/30\n",
      "1875/1875 [==============================] - 14s 7ms/step - loss: 0.2302 - accuracy: 0.9173\n",
      "Epoch 26/30\n",
      "1875/1875 [==============================] - 14s 7ms/step - loss: 0.2244 - accuracy: 0.9198\n",
      "Epoch 27/30\n",
      "1875/1875 [==============================] - 13s 7ms/step - loss: 0.2204 - accuracy: 0.9204\n",
      "Epoch 28/30\n",
      "1875/1875 [==============================] - 13s 7ms/step - loss: 0.2164 - accuracy: 0.9223\n",
      "Epoch 29/30\n",
      "1875/1875 [==============================] - 13s 7ms/step - loss: 0.2120 - accuracy: 0.9238\n",
      "Epoch 30/30\n",
      "1875/1875 [==============================] - 14s 7ms/step - loss: 0.2093 - accuracy: 0.9252\n"
     ]
    },
    {
     "data": {
      "text/plain": [
       "<keras.callbacks.History at 0x222fc2d9a90>"
      ]
     },
     "execution_count": 50,
     "metadata": {},
     "output_type": "execute_result"
    }
   ],
   "source": [
    "model=keras.Sequential([\n",
    "    keras.layers.Flatten(input_shape=(28,28)),\n",
    "    keras.layers.Dense(700,activation='relu'),\n",
    "    keras.layers.Dense(700,activation='relu'),\n",
    "    keras.layers.Dense(10,activation='sigmoid'),\n",
    "    \n",
    "])\n",
    "model.compile(optimizer='SGD',loss='categorical_crossentropy',metrics=['accuracy'])\n",
    "\n",
    "\n",
    "model.fit(x_train_scaled,y_train_categorical,epochs=30)"
   ]
  },
  {
   "cell_type": "code",
   "execution_count": 57,
   "id": "c4ffc12d",
   "metadata": {},
   "outputs": [
    {
     "data": {
      "text/plain": [
       "'Trouser'"
      ]
     },
     "execution_count": 57,
     "metadata": {},
     "output_type": "execute_result"
    }
   ],
   "source": [
    "classes[np.argmax(model.predict(x_test_scaled)[2])]"
   ]
  },
  {
   "cell_type": "code",
   "execution_count": 58,
   "id": "efb50917",
   "metadata": {},
   "outputs": [
    {
     "data": {
      "text/plain": [
       "'Trouser'"
      ]
     },
     "execution_count": 58,
     "metadata": {},
     "output_type": "execute_result"
    }
   ],
   "source": [
    "classes[np.argmax(y_test_categorical[2])]"
   ]
  },
  {
   "cell_type": "code",
   "execution_count": 59,
   "id": "5f742aa2",
   "metadata": {},
   "outputs": [
    {
     "name": "stdout",
     "output_type": "stream",
     "text": [
      "313/313 [==============================] - 1s 4ms/step - loss: 0.3310 - accuracy: 0.8817\n"
     ]
    },
    {
     "data": {
      "text/plain": [
       "[0.330965518951416, 0.8816999793052673]"
      ]
     },
     "execution_count": 59,
     "metadata": {},
     "output_type": "execute_result"
    }
   ],
   "source": [
    "model.evaluate(x_test_scaled,y_test_categorical)"
   ]
  },
  {
   "cell_type": "code",
   "execution_count": null,
   "id": "8f70e9af",
   "metadata": {},
   "outputs": [],
   "source": []
  }
 ],
 "metadata": {
  "kernelspec": {
   "display_name": "tfod",
   "language": "python",
   "name": "tfod"
  },
  "language_info": {
   "codemirror_mode": {
    "name": "ipython",
    "version": 3
   },
   "file_extension": ".py",
   "mimetype": "text/x-python",
   "name": "python",
   "nbconvert_exporter": "python",
   "pygments_lexer": "ipython3",
   "version": "3.6.0"
  }
 },
 "nbformat": 4,
 "nbformat_minor": 5
}
