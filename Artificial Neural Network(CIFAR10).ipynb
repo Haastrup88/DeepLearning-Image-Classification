{
 "cells": [
  {
   "cell_type": "code",
   "execution_count": 1,
   "id": "35e76852",
   "metadata": {},
   "outputs": [],
   "source": [
    "import tensorflow as tf\n",
    "from tensorflow import keras\n",
    "import matplotlib.pyplot as plt\n",
    "import numpy as np\n",
    "%matplotlib inline\n"
   ]
  },
  {
   "cell_type": "code",
   "execution_count": 2,
   "id": "50deb79c",
   "metadata": {},
   "outputs": [
    {
     "data": {
      "text/plain": [
       "[PhysicalDevice(name='/physical_device:CPU:0', device_type='CPU')]"
      ]
     },
     "execution_count": 2,
     "metadata": {},
     "output_type": "execute_result"
    }
   ],
   "source": [
    "tf.config.experimental.list_physical_devices()"
   ]
  },
  {
   "cell_type": "code",
   "execution_count": 3,
   "id": "a0cfc268",
   "metadata": {},
   "outputs": [
    {
     "data": {
      "text/plain": [
       "True"
      ]
     },
     "execution_count": 3,
     "metadata": {},
     "output_type": "execute_result"
    }
   ],
   "source": [
    "tf.test.is_built_with_cuda()"
   ]
  },
  {
   "cell_type": "code",
   "execution_count": 4,
   "id": "1035c20c",
   "metadata": {},
   "outputs": [
    {
     "name": "stdout",
     "output_type": "stream",
     "text": [
      "Downloading data from https://www.cs.toronto.edu/~kriz/cifar-10-python.tar.gz\n",
      "170500096/170498071 [==============================] - 80s 0us/step\n",
      "170508288/170498071 [==============================] - 80s 0us/step\n"
     ]
    }
   ],
   "source": [
    "(x_train,y_train),(x_test,y_test)=tf.keras.datasets.cifar10.load_data()"
   ]
  },
  {
   "cell_type": "code",
   "execution_count": 10,
   "id": "20cda697",
   "metadata": {},
   "outputs": [
    {
     "data": {
      "text/plain": [
       "array([[6],\n",
       "       [9],\n",
       "       [9],\n",
       "       [4]], dtype=uint8)"
      ]
     },
     "execution_count": 10,
     "metadata": {},
     "output_type": "execute_result"
    }
   ],
   "source": [
    "y_train[0:4]"
   ]
  },
  {
   "cell_type": "code",
   "execution_count": 17,
   "id": "2b1d5bbe",
   "metadata": {},
   "outputs": [],
   "source": [
    "def plot_sample(index):\n",
    "    plt.figure(figsize=(10,4))\n",
    "    plt.imshow(x_train[index])"
   ]
  },
  {
   "cell_type": "code",
   "execution_count": 35,
   "id": "beea3627",
   "metadata": {},
   "outputs": [
    {
     "data": {
      "image/png": "[encoded data removed]",
      "text/plain": [
       "<Figure size 720x288 with 1 Axes>"
      ]
     },
     "metadata": {
      "needs_background": "light"
     },
     "output_type": "display_data"
    }
   ],
   "source": [
    "plot_sample(3)"
   ]
  },
  {
   "cell_type": "code",
   "execution_count": 23,
   "id": "1aa51f32",
   "metadata": {},
   "outputs": [],
   "source": [
    "classes=['airplane','automobile','bird','cat','deer','dog','frog','horse','ship','truck']"
   ]
  },
  {
   "cell_type": "code",
   "execution_count": 27,
   "id": "a1af79d0",
   "metadata": {},
   "outputs": [
    {
     "data": {
      "text/plain": [
       "1"
      ]
     },
     "execution_count": 27,
     "metadata": {},
     "output_type": "execute_result"
    }
   ],
   "source": [
    "y_train[4][0]"
   ]
  },
  {
   "cell_type": "code",
   "execution_count": 36,
   "id": "fe6caa7c",
   "metadata": {},
   "outputs": [
    {
     "data": {
      "text/plain": [
       "'deer'"
      ]
     },
     "execution_count": 36,
     "metadata": {},
     "output_type": "execute_result"
    }
   ],
   "source": [
    "classes[y_train[3][0]]"
   ]
  },
  {
   "cell_type": "markdown",
   "id": "69767ad4",
   "metadata": {},
   "source": [
    "# Scaling the Dataset"
   ]
  },
  {
   "cell_type": "code",
   "execution_count": 38,
   "id": "92c2c76d",
   "metadata": {},
   "outputs": [],
   "source": [
    "x_train_scaled=x_train/255\n",
    "x_test_scaled=x_test/255"
   ]
  },
  {
   "cell_type": "code",
   "execution_count": 41,
   "id": "78314c15",
   "metadata": {},
   "outputs": [
    {
     "data": {
      "text/plain": [
       "array([[0., 0., 0., 0., 0., 0., 1., 0., 0., 0.],\n",
       "       [0., 0., 0., 0., 0., 0., 0., 0., 0., 1.],\n",
       "       [0., 0., 0., 0., 0., 0., 0., 0., 0., 1.],\n",
       "       [0., 0., 0., 0., 1., 0., 0., 0., 0., 0.]], dtype=float32)"
      ]
     },
     "execution_count": 41,
     "metadata": {},
     "output_type": "execute_result"
    }
   ],
   "source": [
    "y_train_categorical=keras.utils.to_categorical(y_train,num_classes=10,dtype='float32')\n",
    "y_train_categorical[:4]"
   ]
  },
  {
   "cell_type": "code",
   "execution_count": 43,
   "id": "b910a6a6",
   "metadata": {},
   "outputs": [
    {
     "data": {
      "text/plain": [
       "array([[0., 0., 0., 1., 0., 0., 0., 0., 0., 0.],\n",
       "       [0., 0., 0., 0., 0., 0., 0., 0., 1., 0.],\n",
       "       [0., 0., 0., 0., 0., 0., 0., 0., 1., 0.],\n",
       "       [1., 0., 0., 0., 0., 0., 0., 0., 0., 0.],\n",
       "       [0., 0., 0., 0., 0., 0., 1., 0., 0., 0.],\n",
       "       [0., 0., 0., 0., 0., 0., 1., 0., 0., 0.]], dtype=float32)"
      ]
     },
     "execution_count": 43,
     "metadata": {},
     "output_type": "execute_result"
    }
   ],
   "source": [
    "y_test_categorical=keras.utils.to_categorical(y_test,num_classes=10,dtype='float32')\n",
    "y_test_categorical[:6]"
   ]
  },
  {
   "cell_type": "code",
   "execution_count": 45,
   "id": "e20fa9cd",
   "metadata": {},
   "outputs": [
    {
     "data": {
      "text/plain": [
       "3072"
      ]
     },
     "execution_count": 45,
     "metadata": {},
     "output_type": "execute_result"
    }
   ],
   "source": [
    "32*32*3"
   ]
  },
  {
   "cell_type": "markdown",
   "id": "fcf388cb",
   "metadata": {},
   "source": [
    "# Model"
   ]
  },
  {
   "cell_type": "code",
   "execution_count": 75,
   "id": "e7364b1b",
   "metadata": {},
   "outputs": [
    {
     "name": "stdout",
     "output_type": "stream",
     "text": [
      "Epoch 1/50\n",
      "1563/1563 [==============================] - 129s 82ms/step - loss: 1.8167 - accuracy: 0.3546\n",
      "Epoch 2/50\n",
      "1563/1563 [==============================] - 123s 79ms/step - loss: 1.6249 - accuracy: 0.4259\n",
      "Epoch 3/50\n",
      "1563/1563 [==============================] - 122s 78ms/step - loss: 1.5448 - accuracy: 0.4531\n",
      "Epoch 4/50\n",
      "1563/1563 [==============================] - 116s 74ms/step - loss: 1.4856 - accuracy: 0.4754\n",
      "Epoch 5/50\n",
      "1563/1563 [==============================] - 119s 76ms/step - loss: 1.4357 - accuracy: 0.4948\n",
      "Epoch 6/50\n",
      "1563/1563 [==============================] - 123s 79ms/step - loss: 1.3918 - accuracy: 0.5082\n",
      "Epoch 7/50\n",
      "1563/1563 [==============================] - 124s 79ms/step - loss: 1.3573 - accuracy: 0.5215\n",
      "Epoch 8/50\n",
      "1563/1563 [==============================] - 118s 75ms/step - loss: 1.3220 - accuracy: 0.5345\n",
      "Epoch 9/50\n",
      "1563/1563 [==============================] - 117s 75ms/step - loss: 1.2875 - accuracy: 0.5468\n",
      "Epoch 10/50\n",
      "1563/1563 [==============================] - 118s 75ms/step - loss: 1.2584 - accuracy: 0.5592\n",
      "Epoch 11/50\n",
      "1563/1563 [==============================] - 118s 76ms/step - loss: 1.2286 - accuracy: 0.5684\n",
      "Epoch 12/50\n",
      "1563/1563 [==============================] - 118s 76ms/step - loss: 1.2007 - accuracy: 0.5781\n",
      "Epoch 13/50\n",
      "1563/1563 [==============================] - 920s 589ms/step - loss: 1.1703 - accuracy: 0.5899\n",
      "Epoch 14/50\n",
      "1563/1563 [==============================] - 121s 77ms/step - loss: 1.1431 - accuracy: 0.6008\n",
      "Epoch 15/50\n",
      "1563/1563 [==============================] - 122s 78ms/step - loss: 1.1183 - accuracy: 0.6091\n",
      "Epoch 16/50\n",
      "1563/1563 [==============================] - 118s 75ms/step - loss: 1.0903 - accuracy: 0.6201\n",
      "Epoch 17/50\n",
      "1563/1563 [==============================] - 118s 75ms/step - loss: 1.0648 - accuracy: 0.6277\n",
      "Epoch 18/50\n",
      "1563/1563 [==============================] - 118s 75ms/step - loss: 1.0390 - accuracy: 0.6381\n",
      "Epoch 19/50\n",
      "1563/1563 [==============================] - 118s 75ms/step - loss: 1.0131 - accuracy: 0.6496\n",
      "Epoch 20/50\n",
      "1563/1563 [==============================] - 118s 75ms/step - loss: 0.9870 - accuracy: 0.6566\n",
      "Epoch 21/50\n",
      "1563/1563 [==============================] - 122s 78ms/step - loss: 0.9633 - accuracy: 0.6659\n",
      "Epoch 22/50\n",
      "1563/1563 [==============================] - 122s 78ms/step - loss: 0.9388 - accuracy: 0.6743\n",
      "Epoch 23/50\n",
      "1563/1563 [==============================] - 123s 79ms/step - loss: 0.9135 - accuracy: 0.6842\n",
      "Epoch 24/50\n",
      "1563/1563 [==============================] - 138s 88ms/step - loss: 0.8884 - accuracy: 0.6942\n",
      "Epoch 25/50\n",
      "1563/1563 [==============================] - 143s 91ms/step - loss: 0.8651 - accuracy: 0.7028\n",
      "Epoch 26/50\n",
      "1563/1563 [==============================] - 135s 86ms/step - loss: 0.8347 - accuracy: 0.7127\n",
      "Epoch 27/50\n",
      "1563/1563 [==============================] - 139s 89ms/step - loss: 0.8109 - accuracy: 0.7211s - loss: 0.8\n",
      "Epoch 28/50\n",
      "1563/1563 [==============================] - 132s 84ms/step - loss: 0.7879 - accuracy: 0.7281\n",
      "Epoch 29/50\n",
      "1563/1563 [==============================] - 122s 78ms/step - loss: 0.7647 - accuracy: 0.7377\n",
      "Epoch 30/50\n",
      "1563/1563 [==============================] - 126s 81ms/step - loss: 0.7372 - accuracy: 0.7483\n",
      "Epoch 31/50\n",
      "1563/1563 [==============================] - 132s 84ms/step - loss: 0.7111 - accuracy: 0.7582\n",
      "Epoch 32/50\n",
      "1563/1563 [==============================] - 124s 79ms/step - loss: 0.6877 - accuracy: 0.7676\n",
      "Epoch 33/50\n",
      "1563/1563 [==============================] - 124s 79ms/step - loss: 0.6647 - accuracy: 0.7738\n",
      "Epoch 34/50\n",
      "1563/1563 [==============================] - 121s 77ms/step - loss: 0.6378 - accuracy: 0.7833\n",
      "Epoch 35/50\n",
      "1563/1563 [==============================] - 120s 77ms/step - loss: 0.6149 - accuracy: 0.7933\n",
      "Epoch 36/50\n",
      "1563/1563 [==============================] - 121s 77ms/step - loss: 0.5930 - accuracy: 0.8012\n",
      "Epoch 37/50\n",
      "1563/1563 [==============================] - 120s 77ms/step - loss: 0.5666 - accuracy: 0.8094\n",
      "Epoch 38/50\n",
      "1563/1563 [==============================] - 122s 78ms/step - loss: 0.5465 - accuracy: 0.8185\n",
      "Epoch 39/50\n",
      "1563/1563 [==============================] - 129s 82ms/step - loss: 0.5210 - accuracy: 0.8290\n",
      "Epoch 40/50\n",
      "1563/1563 [==============================] - 133s 85ms/step - loss: 0.5012 - accuracy: 0.8371s - loss: - ETA: 0s - loss: 0.501\n",
      "Epoch 41/50\n",
      "1563/1563 [==============================] - 134s 86ms/step - loss: 0.4784 - accuracy: 0.8439\n",
      "Epoch 42/50\n",
      "1563/1563 [==============================] - 130s 83ms/step - loss: 0.4551 - accuracy: 0.8528\n",
      "Epoch 43/50\n",
      "1563/1563 [==============================] - 129s 82ms/step - loss: 0.4339 - accuracy: 0.8577\n",
      "Epoch 44/50\n",
      "1563/1563 [==============================] - 128s 82ms/step - loss: 0.4135 - accuracy: 0.8690\n",
      "Epoch 45/50\n",
      "1563/1563 [==============================] - 129s 83ms/step - loss: 0.3929 - accuracy: 0.8749\n",
      "Epoch 46/50\n",
      "1563/1563 [==============================] - 137s 87ms/step - loss: 0.3703 - accuracy: 0.8853\n",
      "Epoch 47/50\n",
      "1563/1563 [==============================] - 136s 87ms/step - loss: 0.3588 - accuracy: 0.8873\n",
      "Epoch 48/50\n",
      "1563/1563 [==============================] - 129s 82ms/step - loss: 0.3343 - accuracy: 0.8972\n",
      "Epoch 49/50\n",
      "1563/1563 [==============================] - 130s 83ms/step - loss: 0.3180 - accuracy: 0.9030\n",
      "Epoch 50/50\n",
      "1563/1563 [==============================] - 130s 83ms/step - loss: 0.3041 - accuracy: 0.9084\n"
     ]
    },
    {
     "data": {
      "text/plain": [
       "<keras.callbacks.History at 0x2ba4cf46cf8>"
      ]
     },
     "execution_count": 75,
     "metadata": {},
     "output_type": "execute_result"
    }
   ],
   "source": [
    "model=keras.Sequential([\n",
    "    keras.layers.Flatten(input_shape=(32,32,3)),\n",
    "    keras.layers.Dense(2900,activation='relu'),\n",
    "    keras.layers.Dense(1000,activation='relu'),\n",
    "    keras.layers.Dense(10,activation='sigmoid')\n",
    "])\n",
    "\n",
    "model.compile(optimizer='SGD',\n",
    "             loss='categorical_crossentropy',\n",
    "             metrics=['accuracy'])\n",
    "#Sparse_categorical_crossentropy is used when the label is a descrete value i.e 1,2,3,4,5 while categorical_crossentropy is used when one hot_encode the\n",
    "#label dataset\n",
    "\n",
    "model.fit(x_train_scaled,y_train_categorical,epochs=50)"
   ]
  },
  {
   "cell_type": "code",
   "execution_count": 61,
   "id": "c9db5663",
   "metadata": {},
   "outputs": [],
   "source": [
    "def test_data(indexx):\n",
    "    plt.figure(figsize=(10,3))\n",
    "    plt.imshow(x_test[indexx])"
   ]
  },
  {
   "cell_type": "code",
   "execution_count": 97,
   "id": "1e8a77bc",
   "metadata": {},
   "outputs": [
    {
     "data": {
      "image/png": "[encoded data removed]",
      "text/plain": [
       "<Figure size 720x216 with 1 Axes>"
      ]
     },
     "metadata": {
      "needs_background": "light"
     },
     "output_type": "display_data"
    }
   ],
   "source": [
    "test_data(3)"
   ]
  },
  {
   "cell_type": "code",
   "execution_count": 96,
   "id": "b814d322",
   "metadata": {},
   "outputs": [
    {
     "data": {
      "text/plain": [
       "['airplane',\n",
       " 'automobile',\n",
       " 'bird',\n",
       " 'cat',\n",
       " 'deer',\n",
       " 'dog',\n",
       " 'frog',\n",
       " 'horse',\n",
       " 'ship',\n",
       " 'truck']"
      ]
     },
     "execution_count": 96,
     "metadata": {},
     "output_type": "execute_result"
    }
   ],
   "source": [
    "classes"
   ]
  },
  {
   "cell_type": "code",
   "execution_count": 71,
   "id": "e697f181",
   "metadata": {},
   "outputs": [
    {
     "data": {
      "text/plain": [
       "array([[0.61960784, 0.43921569, 0.19215686],\n",
       "       [0.62352941, 0.43529412, 0.18431373],\n",
       "       [0.64705882, 0.45490196, 0.2       ],\n",
       "       [0.65098039, 0.4627451 , 0.20784314],\n",
       "       [0.62745098, 0.43921569, 0.18039216],\n",
       "       [0.61176471, 0.42745098, 0.16078431],\n",
       "       [0.63529412, 0.45098039, 0.18431373],\n",
       "       [0.62352941, 0.44313725, 0.17647059],\n",
       "       [0.61960784, 0.43529412, 0.17254902],\n",
       "       [0.62352941, 0.44313725, 0.16078431],\n",
       "       [0.63137255, 0.45490196, 0.16078431],\n",
       "       [0.62745098, 0.43529412, 0.20392157],\n",
       "       [0.63137255, 0.43529412, 0.19215686],\n",
       "       [0.65098039, 0.45882353, 0.16078431],\n",
       "       [0.6627451 , 0.45882353, 0.17647059],\n",
       "       [0.66666667, 0.46666667, 0.17254902],\n",
       "       [0.65490196, 0.45882353, 0.15686275],\n",
       "       [0.63529412, 0.44313725, 0.14901961],\n",
       "       [0.62745098, 0.43529412, 0.15294118],\n",
       "       [0.62745098, 0.43921569, 0.16862745],\n",
       "       [0.61176471, 0.42745098, 0.17254902],\n",
       "       [0.58431373, 0.41960784, 0.17647059],\n",
       "       [0.58823529, 0.41960784, 0.17647059],\n",
       "       [0.58039216, 0.41568627, 0.16862745],\n",
       "       [0.58431373, 0.41960784, 0.17254902],\n",
       "       [0.56078431, 0.39607843, 0.15294118],\n",
       "       [0.54901961, 0.38431373, 0.16862745],\n",
       "       [0.55294118, 0.38039216, 0.16078431],\n",
       "       [0.56078431, 0.38039216, 0.14901961],\n",
       "       [0.5372549 , 0.37254902, 0.14117647],\n",
       "       [0.49411765, 0.35686275, 0.14117647],\n",
       "       [0.45490196, 0.33333333, 0.12941176]])"
      ]
     },
     "execution_count": 71,
     "metadata": {},
     "output_type": "execute_result"
    }
   ],
   "source": [
    "x_test_scaled[0][0]"
   ]
  },
  {
   "cell_type": "code",
   "execution_count": 65,
   "id": "bafbc480",
   "metadata": {
    "scrolled": true
   },
   "outputs": [
    {
     "data": {
      "text/plain": [
       "8"
      ]
     },
     "execution_count": 65,
     "metadata": {},
     "output_type": "execute_result"
    }
   ],
   "source": [
    "y_test[1][0]"
   ]
  },
  {
   "cell_type": "code",
   "execution_count": 68,
   "id": "85d4b836",
   "metadata": {},
   "outputs": [
    {
     "data": {
      "text/plain": [
       "'frog'"
      ]
     },
     "execution_count": 68,
     "metadata": {},
     "output_type": "execute_result"
    }
   ],
   "source": [
    "classes[y_test[4][0]]"
   ]
  },
  {
   "cell_type": "code",
   "execution_count": 82,
   "id": "c7e524a1",
   "metadata": {},
   "outputs": [
    {
     "data": {
      "text/plain": [
       "'cat'"
      ]
     },
     "execution_count": 82,
     "metadata": {},
     "output_type": "execute_result"
    }
   ],
   "source": [
    "classes[y_test[0][0]]"
   ]
  },
  {
   "cell_type": "code",
   "execution_count": 99,
   "id": "94f968d0",
   "metadata": {},
   "outputs": [
    {
     "data": {
      "text/plain": [
       "'cat'"
      ]
     },
     "execution_count": 99,
     "metadata": {},
     "output_type": "execute_result"
    }
   ],
   "source": [
    "classes[np.argmax(model.predict(x_test_scaled)[0])]"
   ]
  },
  {
   "cell_type": "code",
   "execution_count": 93,
   "id": "070fc189",
   "metadata": {},
   "outputs": [
    {
     "data": {
      "text/plain": [
       "array([0], dtype=uint8)"
      ]
     },
     "execution_count": 93,
     "metadata": {},
     "output_type": "execute_result"
    }
   ],
   "source": [
    "y_test[3]"
   ]
  },
  {
   "cell_type": "code",
   "execution_count": 100,
   "id": "d5845ab3",
   "metadata": {},
   "outputs": [
    {
     "name": "stdout",
     "output_type": "stream",
     "text": [
      "313/313 [==============================] - 6s 17ms/step - loss: 1.5347 - accuracy: 0.5696\n"
     ]
    },
    {
     "data": {
      "text/plain": [
       "[1.5346945524215698, 0.569599986076355]"
      ]
     },
     "execution_count": 100,
     "metadata": {},
     "output_type": "execute_result"
    }
   ],
   "source": [
    "model.evaluate(x_test_scaled,y_test_categorical)"
   ]
  },
  {
   "cell_type": "code",
   "execution_count": 104,
   "id": "129a6240",
   "metadata": {},
   "outputs": [],
   "source": [
    "def get_model():\n",
    "    model=keras.Sequential([\n",
    "    keras.layers.Flatten(input_shape=(32,32,3)),\n",
    "    keras.layers.Dense(2900,activation='relu'),\n",
    "    keras.layers.Dense(1000,activation='relu'),\n",
    "    keras.layers.Dense(10,activation='sigmoid')\n",
    "])\n",
    "    model.compile(optimizer='SGD',\n",
    "             loss='categorical_crossentropy',\n",
    "             metrics=['accuracy'])\n",
    "#Sparse_categorical_crossentropy is used when the label is a descrete value i.e 1,2,3,4,5 while categorical_crossentropy is used when one hot_encode the\n",
    "#label dataset\n",
    "    #model.fit(x_train_scaled,y_train_categorical,epochs=50)\n",
    "    \n",
    "    return model\n",
    "    "
   ]
  },
  {
   "cell_type": "code",
   "execution_count": 105,
   "id": "68c4a2a1",
   "metadata": {},
   "outputs": [
    {
     "name": "stdout",
     "output_type": "stream",
     "text": [
      "1563/1563 [==============================] - 88s 55ms/step - loss: 1.8159 - accuracy: 0.3539\n"
     ]
    }
   ],
   "source": [
    "with tf.device('/CPU:0'):\n",
    "    cpu_model=get_model()\n",
    "    cpu_model.fit(x_train_scaled,y_train_categorical,epochs=1)"
   ]
  },
  {
   "cell_type": "code",
   "execution_count": null,
   "id": "61ace1d4",
   "metadata": {},
   "outputs": [],
   "source": []
  }
 ],
 "metadata": {
  "kernelspec": {
   "display_name": "tfod",
   "language": "python",
   "name": "tfod"
  },
  "language_info": {
   "codemirror_mode": {
    "name": "ipython",
    "version": 3
   },
   "file_extension": ".py",
   "mimetype": "text/x-python",
   "name": "python",
   "nbconvert_exporter": "python",
   "pygments_lexer": "ipython3",
   "version": "3.6.0"
  }
 },
 "nbformat": 4,
 "nbformat_minor": 5
}
